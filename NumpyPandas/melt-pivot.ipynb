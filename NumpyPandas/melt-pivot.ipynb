import pandas as pd
import numpy as np




df_books = pd.read_csv('/content/sample_data/bestsellers-with-categories.csv',sep=',',header=0)

df_books.head()

df_books.pivot_table(index='Author',columns='Genre',values='User Rating')

df_books.pivot_table(index='Genre',columns='Year', values='User Rating',aggfunc='sum')

df_books[['Name','Genre']].head(5)

df_books[['Name','Genre']].head(5).melt()

df_books.melt(id_vars='Year',value_vars='Genre')